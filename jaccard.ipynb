{
 "cells": [
  {
   "cell_type": "markdown",
   "metadata": {},
   "source": [
    "Ce code utilise l’indice de Jaccard une mesure simple mais puissante qui permet d’évaluer la similarité entre deux ensembles. \n",
    "\n",
    "Exemple : \n",
    "Ensemble A : {\"Le\", \"chat\", \"mange\", \"la\", \"souris\"} \n",
    "Ensemble B : {\"La\", \"souris\", \"mange\", \"le\", \"fromage\"}\n",
    "L'intersection de ces deux ensembles est : {\"La\", \"souris\", \"mange\", \"le\"}\n",
    "L'union de ces deux ensembles est : {\"Le\", \"chat\", \"mange\", \"la\", \"souris\", \"fromage\"}\n",
    "Donc, la similarité de Jaccard entre les deux phrases serait de 4/6 = 0,67.\n",
    "\n",
    "Interprétation:\n",
    "Si J(A,B) = 1, cela signifie que les deux ensembles sont identiques.\n",
    "Si J(A,B) = 0, cela signifie que les deux ensembles n'ont aucun élément en commun.\n",
    "Les valeurs entre 0 et 1 indiquent le degré de similarité entre les deux ensembles, avec des valeurs plus élevées indiquant une plus grande similarité.\n",
    "\n"
   ]
  },
  {
   "cell_type": "code",
   "execution_count": 4,
   "metadata": {},
   "outputs": [],
   "source": [
    "import pandas as pd\n",
    "import numpy as np\n",
    "from sklearn.feature_extraction.text import TfidfVectorizer\n",
    "from sklearn.metrics.pairwise import cosine_similarity\n",
    "\n",
    "# Load data from csv files\n",
    "df_results = pd.read_csv(\"ml_results.csv\")\n",
    "df_training = pd.read_csv(\"ml_training_dataset.csv\")\n",
    "\n",
    "\n",
    "# Concatenate product names from both dataframes to build a vocabulary for TF-IDF\n",
    "all_product_names = pd.concat([df_results['product_name'], df_training['product_name']])\n",
    "\n",
    "# Create and fit TF-IDF model\n",
    "vectorizer = TfidfVectorizer()\n",
    "X = vectorizer.fit_transform(all_product_names)\n",
    "\n",
    "# Seperate the vectors of results and training data\n",
    "X_results = X[:df_results.shape[0]]\n",
    "X_training = X[df_results.shape[0]:]\n",
    "\n",
    "# Calculate cosine similarity\n",
    "similarity_scores = cosine_similarity(X_results, X_training)\n",
    "\n",
    "# Get most similar instances in the training dataset for each instance in results dataset\n",
    "most_similar_indexes = np.argmax(similarity_scores, axis=1)\n",
    "\n",
    "# Display most similar product names from training dataset\n",
    "most_similar_product_names = df_training.iloc[most_similar_indexes]['product_name']\n"
   ]
  },
  {
   "cell_type": "code",
   "execution_count": null,
   "metadata": {},
   "outputs": [],
   "source": [
    "# Load data from csv files\n",
    "df_results = pd.read_csv(\"/Users/oume3001/Downloads/ml_results.csv\")\n",
    "df_training = pd.read_csv(\"/Users/oume3001/Downloads/ml_training_dataset.csv\")\n",
    "\n",
    "# Loop through each product_name in df_results\n",
    "for i, row in df_results.iterrows():\n",
    "    result_product_name = set(row['product_name'].lower().split())\n",
    "    # Loop through each product_name in df_training\n",
    "    for j, row_train in df_training.iterrows():\n",
    "        train_product_name = set(row_train['product_name'].lower().split())\n",
    "        # Calculate the Jaccard similarity\n",
    "        similarity = len(result_product_name & train_product_name) / len(result_product_name | train_product_name)\n",
    "        # If the similarity is above a threshold\n",
    "        if similarity > 0.5:  # You may adjust this threshold\n",
    "            print(f\"Similar products: {row['product_name']} (results) and {row_train['product_name']} (training)\")\n"
   ]
  },
  {
   "cell_type": "code",
   "execution_count": null,
   "metadata": {},
   "outputs": [],
   "source": [
    "import pandas as pd\n",
    "\n",
    "# Load data from csv files\n",
    "df_results = pd.read_csv(\"/Users/oume3001/Downloads/ml_results.csv\")\n",
    "df_training = pd.read_csv(\"/Users/oume3001/Downloads/ml_training_dataset.csv\")\n",
    "\n",
    "# DataFrame to store the similar products\n",
    "df_similar_products = pd.DataFrame(columns=['product_name_from_results', 'product_name_from_training', 'similarity'])\n",
    "\n",
    "# Initialize a counter\n",
    "counter = 0\n",
    "\n",
    "# Loop through each product_name in df_results\n",
    "for i, row in df_results.iterrows():\n",
    "    result_product_name = set(row['product_name'].lower().split())\n",
    "    # Loop through each product_name in df_training\n",
    "    for j, row_train in df_training.iterrows():\n",
    "        train_product_name = set(row_train['product_name'].lower().split())\n",
    "        # Calculate the Jaccard similarity\n",
    "        similarity = len(result_product_name & train_product_name) / len(result_product_name | train_product_name)\n",
    "        # If the similarity is above 0.5\n",
    "        if similarity > 0.5:  \n",
    "            # Add to the DataFrame\n",
    "            df_similar_products.loc[counter] = [row['product_name'], row_train['product_name'], similarity]\n",
    "            counter += 1\n",
    "\n",
    "# Print the DataFrame\n",
    "print(df_similar_products)\n"
   ]
  }
 ],
 "metadata": {
  "kernelspec": {
   "display_name": "Python 3",
   "language": "python",
   "name": "python3"
  },
  "language_info": {
   "codemirror_mode": {
    "name": "ipython",
    "version": 3
   },
   "file_extension": ".py",
   "mimetype": "text/x-python",
   "name": "python",
   "nbconvert_exporter": "python",
   "pygments_lexer": "ipython3",
   "version": "3.9.6"
  },
  "orig_nbformat": 4
 },
 "nbformat": 4,
 "nbformat_minor": 2
}
